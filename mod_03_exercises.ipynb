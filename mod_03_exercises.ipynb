{
 "cells": [
  {
   "cell_type": "markdown",
   "metadata": {},
   "source": [
    "Data Science Fundamentals: Python |\n",
    "[Table of Contents](../index.ipynb)\n",
    "- - - \n",
    "<!--NAVIGATION-->\n",
    "Module 3. [Control Flow](./01_mod_control_flow.ipynb) | [Statements](./02_python_statements.ipynb) | [Functions](./03_python_functions.ipynb) | **[Exercises](./04_mod_exercises.ipynb)**"
   ]
  },
  {
   "cell_type": "markdown",
   "metadata": {},
   "source": [
    "# Control Flow Exercises"
   ]
  },
  {
   "cell_type": "markdown",
   "metadata": {},
   "source": [
    "### Exercise 1:\n",
    "Guess a number between 1 to 9 given by the user. Hint. [Random](https://docs.python.org/3/library/random.html)"
   ]
  },
  {
   "cell_type": "code",
   "execution_count": 1,
   "metadata": {},
   "outputs": [
    {
     "name": "stdout",
     "output_type": "stream",
     "text": [
      "guess a number between 1 and 10 until you get it correct: 4\n",
      "nope! Guess again\n",
      "guess a number between 1 and 10 until you get it correct: 5\n",
      "nope! Guess again\n",
      "guess a number between 1 and 10 until you get it correct: 9\n",
      "nope! Guess again\n",
      "guess a number between 1 and 10 until you get it correct: 3\n",
      "nope! Guess again\n",
      "guess a number between 1 and 10 until you get it correct: 2\n",
      "nope! Guess again\n",
      "Good job you guessed the number!\n"
     ]
    }
   ],
   "source": [
    "### this imports a random integer generator, aliased as \"rng\".\n",
    "from random import randint as rng\n",
    "#Here, a random number (randNum) can be assigned using rng(1,9) specifying the start and end points as 1 to 9.\n",
    "randNum = rng(1,9)\n",
    "guess = 0\n",
    "while randNum != guess:\n",
    "    guess = int(input(\"guess a number between 1 and 10 until you get it correct: \"))\n",
    "    print(\"nope! Guess again\")\n",
    "print(\"Good job you guessed the number!\")"
   ]
  },
  {
   "cell_type": "markdown",
   "metadata": {},
   "source": [
    "### Exercise 2:\n",
    "Check the validity of password input by the user. Hint. [Re](https://docs.python.org/3/library/re.html) which does matching operations much like Perl.\n",
    "\n",
    "Validation:\n",
    "\n",
    "- At least 1 letter between [a-z] and 1 letter between [A-Z].\n",
    "- At least 1 number between [0-9].\n",
    "- At least 1 character from [$#@].\n",
    "- Minimum length 6 characters.\n",
    "- Maximum length 16 characters."
   ]
  },
  {
   "cell_type": "code",
   "execution_count": 10,
   "metadata": {},
   "outputs": [
    {
     "name": "stdout",
     "output_type": "stream",
     "text": [
      "Please enter a valid password:\n",
      "Valid passwords are:\n",
      "\t6-16 characters in length,\n",
      "\tContain 1+ numbers,\n",
      "\t1+ character from [$#@!], and \n",
      "\tAt least 1 upper and 1 lowercase letter.\n",
      "Input: Password123$\n",
      "Valid Password\n"
     ]
    }
   ],
   "source": [
    "#This exercise is difficult for beginners, as it utilizes Regex. If you don't get it at first, thats okay, do your best.\n",
    "import re\n",
    "\n",
    "#extreme detail for my own assistance as much as yours...\n",
    "# ^ = start of string\n",
    "# ?= positive look ahead which checks to make sure a part of the pattern is there but doesn't match\n",
    "# .* match 0 or more of any of the characters specified after such as in [a-z]\n",
    "# \\d = digit\n",
    "# {minimum characters, maximum characters}\n",
    "# $ end of string\n",
    "pattern = \"^(?=.*[a-z])(?=.*[A-Z])(?=.*\\d)(?=.*[@$#])[A-Za-z\\d@$#]{6,16}$\"\n",
    "\n",
    "pwd = input('Please enter a valid password:\\nValid passwords are:\\n\\t6-16 characters in length,\\n\\tContain 1+ numbers,\\n\\t1+ character from [$#@!], and \\n\\tAt least 1 upper and 1 lowercase letter.\\nInput: ')\n",
    "\n",
    "if(re.match(pattern,pwd)):\n",
    "    print(\"Valid Password\")\n",
    "else:\n",
    "    print(\"Invalid Password\")"
   ]
  },
  {
   "cell_type": "markdown",
   "metadata": {},
   "source": [
    "### Exercise 3:\n",
    "Get input of the age of 3 people by user and determine oldest and youngest among them"
   ]
  },
  {
   "cell_type": "code",
   "execution_count": 5,
   "metadata": {},
   "outputs": [
    {
     "name": "stdout",
     "output_type": "stream",
     "text": [
      "Enter First Person's Age : 12\n",
      "Enter Second Person's Age : 33\n",
      "Enter Third Person's Age : 72\n"
     ]
    },
    {
     "data": {
      "text/plain": [
       "'12 is the youngest and 72 is the olderst'"
      ]
     },
     "execution_count": 5,
     "metadata": {},
     "output_type": "execute_result"
    }
   ],
   "source": [
    "#Accept 3 user inputs as integers and assign them to three variables\n",
    "number1 = int(input(\"Enter First Person's Age : \"))\n",
    "number2 = int(input(\"Enter Second Person's Age : \"))\n",
    "number3 = int(input(\"Enter Third Person's Age : \"))\n",
    "#Create a list from the variables\n",
    "x = (number1, number2, number3)\n",
    "#Assign the list's minimum and maximum values to new variables\n",
    "y = min(x)\n",
    "z = max(x)\n",
    "#Print out the min and max using string formatting\n",
    "'{} is the youngest and {} is the olderst'.format(y,z)"
   ]
  },
  {
   "cell_type": "markdown",
   "metadata": {},
   "source": [
    "### Exercise 4:\n",
    "A student will not be allowed to sit in exam if his/her attendance is less than 75%.\n",
    "\n",
    "Take following input from user\n",
    "\n",
    "- Number of classes held\n",
    "- Number of classes attended.\n",
    "- And print percentage of class attended\n",
    "- Is student is allowed to sit in exam or not?"
   ]
  },
  {
   "cell_type": "code",
   "execution_count": 8,
   "metadata": {},
   "outputs": [
    {
     "name": "stdout",
     "output_type": "stream",
     "text": [
      "How many classes were held?: 100\n",
      "How many classes did you attend?: 75\n",
      "You are allowed to take the exam.\n"
     ]
    }
   ],
   "source": [
    "#number of classes held:\n",
    "held = input('How many classes were held?: ')\n",
    "\n",
    "#number of classes attended:\n",
    "attendence = input('How many classes did you attend?: ')\n",
    "\n",
    "#percentage of classes\n",
    "#convert variables into integers, then floated for divison and multiplied by 100 to get a percentage\n",
    "percentage = float(int(attendence)/int(held))*100\n",
    "\n",
    "#Is student allowed to sit in exam?\n",
    "#If/else conditional to determine if a student can take the exam or not\n",
    "if percentage >= 75.0:\n",
    "    print('You are allowed to take the exam.')\n",
    "else:\n",
    "    print('You are not allowed to take the exam.')"
   ]
  },
  {
   "cell_type": "markdown",
   "metadata": {},
   "source": [
    "### Exercise 5:\n",
    "Get an integer N from the user and perform the following actions:\n",
    "\n",
    "Find out - \n",
    "- if N is odd, print \"weird\"\n",
    "- if N is even and in the inclusive range of 2 to 5, print \"Not Weird\"\n",
    "- if N is even and in the inclusive range of 6 to 20, print \"Weird\"\n",
    "- if N is even and greater than 20, print \"Not Weird\""
   ]
  },
  {
   "cell_type": "code",
   "execution_count": 6,
   "metadata": {},
   "outputs": [
    {
     "name": "stdout",
     "output_type": "stream",
     "text": [
      "Please give an integer that will be determined to be weird or not: 11\n",
      "Weird\n"
     ]
    }
   ],
   "source": [
    "# Given an integer, n, perform the following conditional actions:\n",
    "# If n is odd, print Weird\n",
    "# If n is even and in the inclusive range of 2 to 5, print Not Weird\n",
    "# If n is even and in the inclusive range of 6 to 20, print Weird\n",
    "# If n is even and greater than 20, print Not Weird\n",
    "\n",
    "#Accept user input as an integer\n",
    "user_input = int(input('Please give an integer that will be determined to be weird or not: '))\n",
    "\n",
    "#Nested conditional statements, starting with the input being odd or not\n",
    "if user_input % 2 == 0:\n",
    "    \n",
    "    #if the user input is even, determine the oputput if it falls into ranges where the second number is not included**\n",
    "    if user_input in range(2,6):\n",
    "            print(\"Not Weird\")\n",
    "    elif user_input in range(6,21):\n",
    "        print(\"Weird\")\n",
    "    else:\n",
    "        print(\"Not Weird\")\n",
    "else:\n",
    "    print(\"Weird\")"
   ]
  },
  {
   "cell_type": "markdown",
   "metadata": {},
   "source": [
    "\n",
    "## Extra Points\n",
    "- - -"
   ]
  },
  {
   "cell_type": "markdown",
   "metadata": {},
   "source": [
    "1. ***Optional Exercise (Extra Points)***. Write a Python program to reverse a string."
   ]
  },
  {
   "cell_type": "raw",
   "metadata": {},
   "source": [
    "Sample String : \"1234abcd\"\n",
    "Expected Output : \"dcba4321\""
   ]
  },
  {
   "cell_type": "code",
   "execution_count": 18,
   "metadata": {},
   "outputs": [
    {
     "name": "stdout",
     "output_type": "stream",
     "text": [
      "dcba4321\n"
     ]
    }
   ],
   "source": [
    "sample_string = '1234abcd'\n",
    "\n",
    "#define a function that reverses a string\n",
    "def string_reverse(placeholder_string):\n",
    "    \n",
    "    #strings can be index so [start:stop:step] with a -1 step reverses it\n",
    "    print(placeholder_string[::-1])\n",
    "    \n",
    "string_reverse(sample_string)"
   ]
  },
  {
   "cell_type": "markdown",
   "metadata": {},
   "source": [
    "2. ***Optional Exercise (Extra Points)***. Write a Python function to multiply all the numbers in a list. "
   ]
  },
  {
   "cell_type": "raw",
   "metadata": {},
   "source": [
    "Sample List : (8, 2, 3, -1, 7)\n",
    "Expected Output : -336"
   ]
  },
  {
   "cell_type": "code",
   "execution_count": 28,
   "metadata": {},
   "outputs": [
    {
     "name": "stdout",
     "output_type": "stream",
     "text": [
      "-336\n"
     ]
    }
   ],
   "source": [
    "sample_list = [8,2,3,-1,7]\n",
    "\n",
    "def list_multiply(the_list):\n",
    "    \n",
    "    #first create a new list to be multiplied against\n",
    "    list_holder = 1\n",
    "    \n",
    "    #for every item in the original list, multiply our new list by the item\n",
    "    for item in the_list:\n",
    "        list_holder = list_holder * int(item)\n",
    "        \n",
    "    return print(list_holder)\n",
    "\n",
    "list_multiply(sample_list)"
   ]
  },
  {
   "cell_type": "markdown",
   "metadata": {},
   "source": [
    "3. ***Optional Exercise (Extra Points)***. Write a Python function that accepts a string and calculate the number of upper case letters and lower case letters."
   ]
  },
  {
   "cell_type": "raw",
   "metadata": {},
   "source": [
    "Sample String : 'The quick Brow Fox'\n",
    "Expected Output :\n",
    "No. of Upper case characters : 3\n",
    "No. of Lower case Characters : 12"
   ]
  },
  {
   "cell_type": "code",
   "execution_count": 40,
   "metadata": {},
   "outputs": [
    {
     "name": "stdout",
     "output_type": "stream",
     "text": [
      "No. of Upper case characters : 3 /n No. of Lower case characters : 15\n"
     ]
    }
   ],
   "source": [
    "sample_string = 'The quick Brow Fox'\n",
    "\n",
    "def case_counter(string):\n",
    "    \n",
    "    #Create two variables that we can add counts to\n",
    "    upper_counter = 0\n",
    "    lower_counter = 0\n",
    "    \n",
    "    #for every letter in our string, we want to determine it's casing\n",
    "    for letter in string:\n",
    "        \n",
    "        #Built in string method isupper() allows us to determing casing, then add to the correct list\n",
    "        if letter.isupper():\n",
    "            upper_counter += 1\n",
    "            \n",
    "        else:\n",
    "            lower_counter += 1\n",
    "           \n",
    "    #Print the statement with our changed counting variables \n",
    "    return print(f'No. of Upper case characters : {upper_counter} /n No. of Lower case characters : {lower_counter}')\n",
    "\n",
    "case_counter(sample_string)"
   ]
  },
  {
   "cell_type": "markdown",
   "metadata": {},
   "source": [
    "- - -\n",
    "\n",
    "Copyright © 2020 Qualex Consulting Services Incorporated."
   ]
  }
 ],
 "metadata": {
  "kernelspec": {
   "display_name": "Python 3",
   "language": "python",
   "name": "python3"
  },
  "language_info": {
   "codemirror_mode": {
    "name": "ipython",
    "version": 3
   },
   "file_extension": ".py",
   "mimetype": "text/x-python",
   "name": "python",
   "nbconvert_exporter": "python",
   "pygments_lexer": "ipython3",
   "version": "3.8.8"
  }
 },
 "nbformat": 4,
 "nbformat_minor": 4
}
