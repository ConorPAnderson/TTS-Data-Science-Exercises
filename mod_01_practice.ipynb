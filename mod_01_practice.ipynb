{
 "cells": [
  {
   "cell_type": "markdown",
   "metadata": {},
   "source": [
    "Data Science Fundamentals: Python |\n",
    "[Table of Contents](../index.ipynb)\n",
    "- - - \n",
    "<!--NAVIGATION-->\n",
    "Module 1. [Basic Python Syntax](./01_mod_python_syntax.ipynb) | [Variables and Objects](./02_python_variables_objects.ipynb) | [Operators](./03_python_operators.ipynb) | **[Exercises](./04_mod_practice.ipynb)**"
   ]
  },
  {
   "cell_type": "markdown",
   "metadata": {},
   "source": [
    "# Module 1: Practice Exercises\n",
    "Please remember to submit this file to Titus"
   ]
  },
  {
   "cell_type": "markdown",
   "metadata": {},
   "source": [
    "### Exercise 1: Accept the user's first and last name and print them in reverse order with a space between them."
   ]
  },
  {
   "cell_type": "code",
   "execution_count": 1,
   "metadata": {},
   "outputs": [
    {
     "name": "stdout",
     "output_type": "stream",
     "text": [
      "Enter your first name: Conor\n",
      "Enter your last name: Anderson\n",
      "Anderson Conor\n"
     ]
    }
   ],
   "source": [
    "#insert your code here, and don't forget to comment EVERY line!\n",
    "x = input(\"Enter your first name: \") #user prompted input and response attributed to a variable, x\n",
    "y = input(\"Enter your last name: \")  #user prompted input and respose attributed to a variable, y\n",
    "print(y,x) #variables printed in reverse order, space is assumed"
   ]
  },
  {
   "cell_type": "markdown",
   "metadata": {},
   "source": [
    "# Exercise 2. Accept an integer (n) input from the user and compute the value of n+nn+nnn\n",
    "For example if `n=4` then `n + nn + nnn = 4 + 44 + 444 = 492`"
   ]
  },
  {
   "cell_type": "code",
   "execution_count": 8,
   "metadata": {},
   "outputs": [
    {
     "name": "stdout",
     "output_type": "stream",
     "text": [
      "Input an integer: 4\n",
      "492\n"
     ]
    }
   ],
   "source": [
    "#insert your code here\n",
    "a = int(input(\"Input an integer: \")) #Ask the user a question and assign that to a variable as an integer\n",
    "b = int((f\"{a}{a}\")) #using f string literal, take the variable a, as a string and place two in a row before \n",
    "                     #making that an integer\n",
    "c = int((f\"{a}{a}{a}\")) #the same as b but three times\n",
    "print(a+b+c) #add all three variables together, note no integer needed here as we changed them before hand"
   ]
  },
  {
   "cell_type": "markdown",
   "metadata": {},
   "source": [
    "### Exercise 3. Ask the user \"What country are you from?\" then print the following statement: \"I have heard that [input] is a beautiful country!\""
   ]
  },
  {
   "cell_type": "code",
   "execution_count": 6,
   "metadata": {},
   "outputs": [
    {
     "name": "stdout",
     "output_type": "stream",
     "text": [
      "What country are you from?\n",
      "USA\n",
      "I've heard that USA is a beautiful country\n"
     ]
    }
   ],
   "source": [
    "#insert your code here\n",
    "print(\"What country are you from?\") #prompt user input with question\n",
    "x = input() #user response attributed to variable, x\n",
    "print(f\"I've heard that {x} is a beautiful country\") #statement using f string literal"
   ]
  },
  {
   "cell_type": "markdown",
   "metadata": {},
   "source": [
    "### Exercise 4. What is the output of the following python code?"
   ]
  },
  {
   "cell_type": "raw",
   "metadata": {},
   "source": [
    "x = 10\n",
    "y = 50\n",
    "if (x ** 2 > 100 and y < 100):\n",
    "    print(x, y)"
   ]
  },
  {
   "cell_type": "markdown",
   "metadata": {},
   "source": [
    "#Print your answer here... Nothing because the conditions for the print statement are not met"
   ]
  },
  {
   "cell_type": "markdown",
   "metadata": {},
   "source": [
    "### Exercise 5: What is the output of the following addition `+` operator, and why does this code chunk execute this way??"
   ]
  },
  {
   "cell_type": "raw",
   "metadata": {},
   "source": [
    "a = [10, 20]\n",
    "b = a\n",
    "b += [30, 40]\n",
    "print(a)\n",
    "print(b)"
   ]
  },
  {
   "cell_type": "markdown",
   "metadata": {},
   "source": [
    "#Print your answer here... Both A and B will be the list \"[10, 20, 30, 40]\" because python concatenates lists"
   ]
  },
  {
   "cell_type": "markdown",
   "metadata": {},
   "source": [
    "### Exercise 6. What is the output of the following code, and what operator is being used here?"
   ]
  },
  {
   "cell_type": "raw",
   "metadata": {},
   "source": [
    "print(2%6)"
   ]
  },
  {
   "cell_type": "markdown",
   "metadata": {},
   "source": [
    "#Print your answer here... The output will be 2 as the \"modulo\" or % sign returns the remainder when the left number is divided by the right number"
   ]
  },
  {
   "cell_type": "markdown",
   "metadata": {},
   "source": [
    "### Exercise 7: What is the output of the following code, and what arithmetic operators are used in this code?"
   ]
  },
  {
   "cell_type": "raw",
   "metadata": {},
   "source": [
    "print(2 * 3 ** 3 * 4)"
   ]
  },
  {
   "cell_type": "markdown",
   "metadata": {},
   "source": [
    "#Print your answer here... The output will be 216 because the print statement follows PEMDAS, doing 3 raised to 3, then *2 and *4"
   ]
  },
  {
   "cell_type": "markdown",
   "metadata": {},
   "source": [
    "### Exercise 8: What is a text editor?"
   ]
  },
  {
   "cell_type": "markdown",
   "metadata": {},
   "source": [
    "#Print your answer here... A text editor is a program that allows you to create plain text (different than \"rich text\" used in things like word processor) in which you can write in various languages. They range from Microsoft's Notepad to things like Sublime text which has built in highlighting for specific languages."
   ]
  },
  {
   "cell_type": "markdown",
   "metadata": {},
   "source": [
    "### Exercise 9: What is python?"
   ]
  },
  {
   "cell_type": "markdown",
   "metadata": {},
   "source": [
    "#Print your answer here... Python is an open-source programming language with a focus on readability and object oriented programming."
   ]
  },
  {
   "cell_type": "markdown",
   "metadata": {},
   "source": [
    "### Exercise 10: What is jupyter notebook, what type of python environment is it, and what alternatives are there to jupyter notebook?"
   ]
  },
  {
   "cell_type": "markdown",
   "metadata": {},
   "source": [
    "#Print your answer here... Jupyter notebook is an IDE, or Integrated Development Environment, that specializes in Julia, Python and R. Alternatives include PyCharm, Atom, Spyder and others."
   ]
  },
  {
   "cell_type": "markdown",
   "metadata": {},
   "source": [
    "### Please remember to submit this file to Titus!"
   ]
  },
  {
   "cell_type": "markdown",
   "metadata": {},
   "source": [
    "<!--NAVIGATION-->\n",
    "Module 1. [Basic Python Syntax](./01_mod_python_syntax.ipynb) | [Variables and Objects](./02_python_variables_objects.ipynb) | [Operators](./03_python_operators.ipynb) | **[Practice](./04_mod_practice.ipynb)**\n",
    "<br>\n",
    "[top](#)"
   ]
  },
  {
   "cell_type": "markdown",
   "metadata": {},
   "source": [
    "- - -\n",
    "\n",
    "Copyright © 2020 Qualex Consulting Services Incorporated."
   ]
  }
 ],
 "metadata": {
  "kernelspec": {
   "display_name": "Python 3",
   "language": "python",
   "name": "python3"
  },
  "language_info": {
   "codemirror_mode": {
    "name": "ipython",
    "version": 3
   },
   "file_extension": ".py",
   "mimetype": "text/x-python",
   "name": "python",
   "nbconvert_exporter": "python",
   "pygments_lexer": "ipython3",
   "version": "3.8.8"
  }
 },
 "nbformat": 4,
 "nbformat_minor": 4
}
