{
 "cells": [
  {
   "cell_type": "markdown",
   "metadata": {},
   "source": [
    "Data Science Fundamentals: Python |\n",
    "[Table of Contents](../index.ipynb)\n",
    "- - - \n",
    "<!--NAVIGATION-->\n",
    "Module 8. | [Inheritance & Methods](./01_oop_inheritance.ipynb) | [Sequences, Iterables, Generators Revisited](02_revisited.ipynb) | [Super()](./03_super().ipynb) | **[Exercises](./04_inheritance_methods_exercises.ipynb)**"
   ]
  },
  {
   "cell_type": "markdown",
   "metadata": {},
   "source": [
    "# Module 8: Practice Exercises"
   ]
  },
  {
   "cell_type": "markdown",
   "metadata": {},
   "source": [
    "## Exercise 1. "
   ]
  },
  {
   "cell_type": "markdown",
   "metadata": {},
   "source": [
    "You are given two classes, Person and Student, where Person is the base class and Student is the derived class. Completed code for Person and a declaration for Student are provided for you in the editor. Observe that Student inherits all the properties of Person.\n",
    "\n",
    "Complete the Student class by writing the following:\n",
    "\n",
    "A Student class constructor, which has 4 parameters:\n",
    "- A string, firstName\n",
    "- A string, lastName\n",
    "- An integer, id\n",
    "An integer array (or vector) of test scores, scores\n",
    "\n",
    "A char **calculate()** method that calculates a Student object's average and returns the grade character representative of their calculated average:\n",
    "```\n",
    "A | 90-100\n",
    "B | 80-89\n",
    "C | 70-79\n",
    "D | 60-69\n",
    "F | <60\n",
    "```"
   ]
  },
  {
   "cell_type": "code",
   "execution_count": 8,
   "metadata": {},
   "outputs": [
    {
     "name": "stdout",
     "output_type": "stream",
     "text": [
      "First name: Conor\n",
      "Last name: Anderson\n",
      "Student ID: 12345\n",
      "Enter a list of grades separated by space: 100 50 75 100 50\n",
      "C\n"
     ]
    }
   ],
   "source": [
    "## This code uses the given code given at the bottom which defines group outside of the function, requiring you to not make\n",
    "## it a constructor in the class Student, which in turn makes your calculate method a static function\n",
    "\n",
    "class Person:\n",
    "    '''The class \"Person\" containing first and last names'''\n",
    "    def __init__(self,fname,lname):\n",
    "        self.fname = fname\n",
    "        self.lname = lname\n",
    "        \n",
    "class Student(Person):\n",
    "    \"\"\"docstring here\"\"\"\n",
    "    def __init__(self, fname, lname, student_id):\n",
    "        Person.__init__(self, fname, lname)\n",
    "        self.student_id = int(student_id)\n",
    "                          \n",
    "    def calculate(grade_avg, grades):\n",
    "        \"\"\"docstring here\"\"\"\n",
    "        grade_avg = sum(grades) / len(grades)\n",
    "        if grade_avg in range (90,101):\n",
    "            print(\"A\")\n",
    "        elif grade_avg in range(80,91):\n",
    "            print(\"B\")\n",
    "        elif grade_avg in range(70,81):\n",
    "            print(\"C\")\n",
    "        elif grade_avg in range(60,71):\n",
    "            print(\"D\")\n",
    "        else:\n",
    "            print(\"F\")\n",
    "                                                  \n",
    "person1 = Student(str(input(\"First name: \")),str(input(\"Last name: \")), int(input(\"Student ID: \")))\n",
    "grades = input(\"Enter a list of grades separated by space: \")\n",
    "grades = list(map(int, grades.split()))\n",
    "person1.calculate(grades)"
   ]
  },
  {
   "cell_type": "code",
   "execution_count": 12,
   "metadata": {},
   "outputs": [
    {
     "name": "stdout",
     "output_type": "stream",
     "text": [
      "First name: Conor\n",
      "Last name: Anderson\n",
      "Student ID: 12345\n",
      "Enter a list of grades separated by space: 100 50 100 50\n",
      "C\n"
     ]
    }
   ],
   "source": [
    "## This code instead makes grades a constructor in the Student class so it requires you to take in\n",
    "## grades as an input when you create a person in the class. This makes the calculate() function a \n",
    "## class mathod instead of a static method\n",
    "\n",
    "class Person:\n",
    "    '''The class \"Person\" containing first and last names'''\n",
    "    def __init__(self,fname,lname):\n",
    "        self.fname = fname\n",
    "        self.lname = lname\n",
    "        \n",
    "class Student(Person):\n",
    "    \"\"\"docstring here\"\"\"\n",
    "    def __init__(self, fname, lname, student_id, grades):\n",
    "        Person.__init__(self, fname, lname)\n",
    "        self.student_id = int(student_id)\n",
    "        self.grades = grades\n",
    "                          \n",
    "    def calculate(self, grades):\n",
    "        \"\"\"docstring here\"\"\"\n",
    "        grade_avg = sum(grades) / len(grades)\n",
    "        if grade_avg in range (90,101):\n",
    "            print(\"A\")\n",
    "        elif grade_avg in range(80,91):\n",
    "            print(\"B\")\n",
    "        elif grade_avg in range(70,81):\n",
    "            print(\"C\")\n",
    "        elif grade_avg in range(60,71):\n",
    "            print(\"D\")\n",
    "        else:\n",
    "            print(\"F\")\n",
    "                                                  \n",
    "person1 = Student(str(input(\"First name: \")),str(input(\"Last name: \")), int(input(\"Student ID: \")), list(map(int,input(\"Enter a list of grades separated by space: \").split())))\n",
    "\n",
    "person1.calculate(grades)"
   ]
  },
  {
   "cell_type": "markdown",
   "metadata": {},
   "source": [
    "- - - \n",
    "<!--NAVIGATION-->\n",
    "Module 8. | [Inheritance & Methods](./01_oop_inheritance.ipynb) | [Sequences, Iterables, Generators Revisited](02_revisited.ipynb) | [Super()](./03_super().ipynb) | **[Exercises](./04_inheritance_methods_exercises.ipynb)**\n",
    "\n",
    "[Top](#)"
   ]
  },
  {
   "cell_type": "markdown",
   "metadata": {},
   "source": [
    "- - -\n",
    "\n",
    "Copyright © 2020 Qualex Consulting Services Incorporated."
   ]
  }
 ],
 "metadata": {
  "kernelspec": {
   "display_name": "Python 3",
   "language": "python",
   "name": "python3"
  },
  "language_info": {
   "codemirror_mode": {
    "name": "ipython",
    "version": 3
   },
   "file_extension": ".py",
   "mimetype": "text/x-python",
   "name": "python",
   "nbconvert_exporter": "python",
   "pygments_lexer": "ipython3",
   "version": "3.8.8"
  }
 },
 "nbformat": 4,
 "nbformat_minor": 4
}
