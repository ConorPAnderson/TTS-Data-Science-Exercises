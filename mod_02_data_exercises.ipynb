{
 "cells": [
  {
   "cell_type": "markdown",
   "metadata": {},
   "source": [
    "Data Science Fundamentals: Python |\n",
    "[Table of Contents](../index.ipynb)\n",
    "- - - \n",
    "<!--NAVIGATION-->\n",
    "Module 2. Python Data | [Simple Types](./01_simple_types.ipynb) | [Data Structures](./02_data_structures.ipynb): [Lists](./02_data_structures_lists.ipynb), [Tuples](./02_data_structures_tuples_part_1), [Sets](./02_data_structures_sets.ipynb), [Dictionaries](./02_data_structures_dictionaries.ipynb) | **[Exercises](./03_data_exercises.ipynb)**"
   ]
  },
  {
   "cell_type": "markdown",
   "metadata": {},
   "source": [
    "# Data Structure Exercises"
   ]
  },
  {
   "cell_type": "markdown",
   "metadata": {},
   "source": [
    "### Exercise 1:\n",
    "\n",
    "In mathematics, the quadratic equation ax^2+bx+c=0 can be solved with the formula x=(−b±(√(b^2−4ac))/2a.\n",
    "\n",
    "Write a function solve_quadratic, that returns both solutions of a generic quadratic as a pair (2-tuple) when the coefficients are given as parameters. It should work like this:\n",
    "\n",
    "print(solve_quadratic(1,-3,2))\n",
    "\n",
    "(2.0,1.0)\n",
    "\n",
    "print(solve_quadratic(1,2,1))\n",
    "\n",
    "(-1.0,-1.0)\n",
    "\n",
    "You may want to use the math.sqrt function from the math module in your solution. Test that your function works in the main function!"
   ]
  },
  {
   "cell_type": "code",
   "execution_count": 2,
   "metadata": {
    "scrolled": true
   },
   "outputs": [
    {
     "name": "stdout",
     "output_type": "stream",
     "text": [
      "(1.0, 2.0)\n",
      "(-1.0, -1.0)\n"
     ]
    }
   ],
   "source": [
    "#getting our imports for math.sqrt\n",
    "from math import sqrt\n",
    "\n",
    "#create solve_quadratic func\n",
    "def solve_quadratic(a, b, c):\n",
    "    #your code here\n",
    "    x = (-b-sqrt((b**2) - (4*a*c)))/(2*a)\n",
    "    y = (-b+sqrt((b**2) - (4*a*c)))/(2*a)\n",
    "    return x,y\n",
    "#test case 1 should return (2.0,1.0)\n",
    "print(solve_quadratic(1,-3,2))\n",
    "\n",
    "#test case 2 should return (-1.0/-1.0)\n",
    "print(solve_quadratic(1,2,1))"
   ]
  },
  {
   "cell_type": "markdown",
   "metadata": {},
   "source": [
    "### Exercise 2:\n",
    "Get a space-separated list of integers from the user, create a tuple of those integers. Then compute and print the result of hash(tuple).  [Hint](https://docs.python.org/3/library/functions.html#hash). **Hash()**"
   ]
  },
  {
   "cell_type": "markdown",
   "metadata": {},
   "source": [
    "A **[hash](https://docs.python.org/3/library/functions.html#hash)** is an fixed sized integer that identifies a particular value. Each value needs to have its own hash, so for the same value you will get the same hash even if it's not the same object."
   ]
  },
  {
   "cell_type": "code",
   "execution_count": 2,
   "metadata": {},
   "outputs": [
    {
     "name": "stdout",
     "output_type": "stream",
     "text": [
      "Please type out a list of integers, separating them with spaces:1 2 3 4\n",
      "(1, 2, 3, 4)\n",
      "590899387183067792\n"
     ]
    }
   ],
   "source": [
    "#Get a space-separated list of integers from the user & create a tuple of those integers\n",
    "a = input(\"Please type out a list of integers, separating them with spaces:\")\n",
    "#create a tuple of integers from the split string input on spaces\n",
    "c = tuple(int(b) for b in a.split(\" \")) \n",
    "#1. split the string input into a list 2. convert the individual list elements to integers 3. make that list a tuple\n",
    "print(c)\n",
    "#Then compute and print the result of hash(tuple)\n",
    "e = hash(c)\n",
    "print(e)"
   ]
  },
  {
   "cell_type": "markdown",
   "metadata": {},
   "source": [
    "### Exercise 3:\n",
    "Take the following two lists. Create a third list by picking a odd-index elements from the first list and even-index elements from the second."
   ]
  },
  {
   "cell_type": "code",
   "execution_count": 2,
   "metadata": {},
   "outputs": [],
   "source": [
    "list1 = [3, 6, 9, 12, 15, 18, 21]\n",
    "list2 = [4, 8, 12, 16, 20, 24, 28]"
   ]
  },
  {
   "cell_type": "code",
   "execution_count": 3,
   "metadata": {},
   "outputs": [
    {
     "name": "stdout",
     "output_type": "stream",
     "text": [
      "[6, 12, 18, 4, 12, 20, 28]\n"
     ]
    }
   ],
   "source": [
    "#your code here, remember to run the block above!\n",
    "list3 = list1[1::2] + list2[0::2] \n",
    "#using list slicing where [index start:index end:index jump size], start at the first odd/even indeces and step two\n",
    "print(list3)"
   ]
  },
  {
   "cell_type": "markdown",
   "metadata": {},
   "source": [
    "### Exercise 4:\n",
    "Take the following list. Slice it into three equal chunks and reverse each list."
   ]
  },
  {
   "cell_type": "code",
   "execution_count": 2,
   "metadata": {},
   "outputs": [],
   "source": [
    "sampleList = [11, 45, 8, 23, 14, 12, 78, 45, 89]"
   ]
  },
  {
   "cell_type": "code",
   "execution_count": 16,
   "metadata": {},
   "outputs": [
    {
     "name": "stdout",
     "output_type": "stream",
     "text": [
      "[[8, 45, 11], [12, 14, 23], [89, 45, 78]]\n"
     ]
    }
   ],
   "source": [
    "#your code here\n",
    "\n",
    "#Using list comprehension, I created a formula to make three equal lists for any size list input\n",
    "three_list = [sampleList[i:i+int(len(sampleList)/3)] for i in range (0, len(sampleList), 3)]\n",
    "\n",
    "#For this new nested list of thirds, I reverse them using the list method reverse() and then print the complete list\n",
    "for each_list in three_list:\n",
    "    each_list.reverse()\n",
    "print(three_list)"
   ]
  },
  {
   "cell_type": "markdown",
   "metadata": {},
   "source": [
    "### Exercise 5: \n",
    "Iterate through a given list (`rollNumber`) and check if a given element already exists in the given dictionary (`sampleDict`) as a key’s value. If not, delete it from the list."
   ]
  },
  {
   "cell_type": "code",
   "execution_count": 1,
   "metadata": {},
   "outputs": [],
   "source": [
    "rollNumber = [47, 64, 69, 37, 76, 83, 95, 97]\n",
    "sampleDict ={'Zach':47, 'Emma':69, 'Kelly':76, 'Jason':97}"
   ]
  },
  {
   "cell_type": "markdown",
   "metadata": {},
   "source": [
    "Please know this is a hard problem, and is advanced for a data structures  exercise. It is designed to be the challenge problem, because this exercise incorporates knowledge from material we have yet to go through. The key is to keep in mind the nature of dictionaries, and how our control flow/iteration is performed in these `for` loops. \n",
    "\n",
    "There are two ways to approach this problem, our approach is to delete elements from `rollNumber`, the alternate is to add the matches from `rollNumber` and `sampleDict`'s values to a new list. The second approach is easier, but you should do the first approach for this exercise. Here is one example of the first approach, but notice how 95 is included here, and ponder why."
   ]
  },
  {
   "cell_type": "code",
   "execution_count": 2,
   "metadata": {},
   "outputs": [
    {
     "name": "stdout",
     "output_type": "stream",
     "text": [
      "[47, 69, 76, 95, 97]\n"
     ]
    }
   ],
   "source": [
    "#Incorrect, will include #95\n",
    "#iterate through the elements in rollNumber\n",
    "for n in rollNumber:\n",
    "    #check if a given element already exists in sampleDict as the key, n's value pair.\n",
    "    if n not in sampleDict.values():\n",
    "        #if an element already exists in the given dict then we remove it\n",
    "        rollNumber.remove(n) \n",
    "    #if n is in sampleDict.values, continue\n",
    "    else:\n",
    "        continue\n",
    "\n",
    "print(rollNumber)"
   ]
  },
  {
   "cell_type": "code",
   "execution_count": 3,
   "metadata": {},
   "outputs": [
    {
     "name": "stdout",
     "output_type": "stream",
     "text": [
      "[47, 69, 76, 97]\n"
     ]
    }
   ],
   "source": [
    "#your code here, correct answer is [47, 69, 76, 97]\n",
    "[rollNumber.remove(n) for n in rollNumber if n not in sampleDict.values()]\n",
    "#using list comprehension syntax [expression(x) for x in list if parameters], avoids skipping iteration because \n",
    "#it is creating a new list that is adding elements from the original list instead of removing elements,\n",
    "#causing the index to skip\n",
    "\n",
    "print(rollNumber)"
   ]
  },
  {
   "cell_type": "markdown",
   "metadata": {},
   "source": [
    "## Extra Points\n",
    "- - -"
   ]
  },
  {
   "cell_type": "markdown",
   "metadata": {},
   "source": [
    "1. ***Optional Exercise (Extra Points)***.  Write a Python program to convert a tuple to a string."
   ]
  },
  {
   "cell_type": "code",
   "execution_count": 40,
   "metadata": {},
   "outputs": [],
   "source": [
    "def stringtotuple(tupl):\n",
    "    #create placeholder string\n",
    "    string = ''\n",
    "    #for every item in the tuple provided, add it to the string\n",
    "    for item in tupl:\n",
    "        string += str(item)\n",
    "    #return the string\n",
    "    return print(string)"
   ]
  },
  {
   "cell_type": "code",
   "execution_count": 41,
   "metadata": {},
   "outputs": [
    {
     "name": "stdout",
     "output_type": "stream",
     "text": [
      "1234\n"
     ]
    }
   ],
   "source": [
    "x = (1,2,3,4)\n",
    "stringtotuple(x)"
   ]
  },
  {
   "cell_type": "markdown",
   "metadata": {},
   "source": [
    "2. ***Optional Exercise (Extra Points)***.  Write a Python program to check whether an element exists within a tuple."
   ]
  },
  {
   "cell_type": "code",
   "execution_count": 50,
   "metadata": {},
   "outputs": [],
   "source": [
    "def tupleexist(thetuple,item):\n",
    "    #conditional statements, if the item is in the tuple do this, if not do that\n",
    "    if item in thetuple:\n",
    "        return 'This item is in the tuple.'\n",
    "    else:   \n",
    "        return 'This item is not in the tuple.'"
   ]
  },
  {
   "cell_type": "code",
   "execution_count": 51,
   "metadata": {},
   "outputs": [],
   "source": [
    "mytuple = (1,2,3,4,'banana')"
   ]
  },
  {
   "cell_type": "code",
   "execution_count": 52,
   "metadata": {},
   "outputs": [
    {
     "data": {
      "text/plain": [
       "'This item is in the tuple.'"
      ]
     },
     "execution_count": 52,
     "metadata": {},
     "output_type": "execute_result"
    }
   ],
   "source": [
    "tupleexist(mytuple,2)"
   ]
  },
  {
   "cell_type": "code",
   "execution_count": 53,
   "metadata": {},
   "outputs": [
    {
     "data": {
      "text/plain": [
       "'This item is not in the tuple.'"
      ]
     },
     "execution_count": 53,
     "metadata": {},
     "output_type": "execute_result"
    }
   ],
   "source": [
    "tupleexist(mytuple,'apple')"
   ]
  },
  {
   "cell_type": "markdown",
   "metadata": {},
   "source": [
    "3. ***Optional Exercise (Extra Points)***.  Write a Python program to print a tuple with string formatting."
   ]
  },
  {
   "cell_type": "code",
   "execution_count": 17,
   "metadata": {},
   "outputs": [],
   "source": [
    "mytuple2 = (1,10,'grapes',[4,6,8])"
   ]
  },
  {
   "cell_type": "code",
   "execution_count": 18,
   "metadata": {},
   "outputs": [
    {
     "name": "stdout",
     "output_type": "stream",
     "text": [
      "This is my tuple: (1, 10, 'grapes', [4, 6, 8])\n"
     ]
    }
   ],
   "source": [
    "def tup_w_fstr(tup):\n",
    "    #f string formatting works such that you place '{}' and then specify what you want in them, in this case the object\n",
    "    #of the function\n",
    "    return print('This is my tuple: {}'.format(tup))\n",
    "\n",
    "tup_w_fstr(mytuple2)"
   ]
  },
  {
   "cell_type": "markdown",
   "metadata": {},
   "source": [
    "- - - \n",
    "<!--NAVIGATION-->\n",
    "Module 2. Python Data | [Simple Types](./01_simple_types.ipynb) | [Data Structures](./02_data_structures.ipynb) | **[Exercises](./03_data_exercises.ipynb)**\n",
    "<br>\n",
    "[Top](#)"
   ]
  },
  {
   "cell_type": "markdown",
   "metadata": {},
   "source": [
    "- - -\n",
    "\n",
    "Copyright © 2020 Qualex Consulting Services Incorporated."
   ]
  }
 ],
 "metadata": {
  "kernelspec": {
   "display_name": "Python 3",
   "language": "python",
   "name": "python3"
  },
  "language_info": {
   "codemirror_mode": {
    "name": "ipython",
    "version": 3
   },
   "file_extension": ".py",
   "mimetype": "text/x-python",
   "name": "python",
   "nbconvert_exporter": "python",
   "pygments_lexer": "ipython3",
   "version": "3.8.8"
  }
 },
 "nbformat": 4,
 "nbformat_minor": 4
}
